{
  "nbformat": 4,
  "nbformat_minor": 0,
  "metadata": {
    "colab": {
      "provenance": [],
      "authorship_tag": "ABX9TyOwFw/nR0oKK4e8xlfxp+Sb",
      "include_colab_link": true
    },
    "kernelspec": {
      "name": "python3",
      "display_name": "Python 3"
    },
    "language_info": {
      "name": "python"
    }
  },
  "cells": [
    {
      "cell_type": "markdown",
      "metadata": {
        "id": "view-in-github",
        "colab_type": "text"
      },
      "source": [
        "<a href=\"https://colab.research.google.com/github/amaansam/python-data-visualisation/blob/main/CO%E2%82%82_Emissions.ipynb\" target=\"_parent\"><img src=\"https://colab.research.google.com/assets/colab-badge.svg\" alt=\"Open In Colab\"/></a>"
      ]
    },
    {
      "cell_type": "markdown",
      "metadata": {
        "id": "783f49e6"
      },
      "source": [
        "## 1. Install Necessary Libraries\n",
        "\n",
        "This cell ensures that all the required tools (libraries) for our project are installed. We need Streamlit for creating the web app, pandas for working with data, and matplotlib and seaborn for making charts."
      ]
    },
    {
      "cell_type": "code",
      "metadata": {
        "colab": {
          "base_uri": "https://localhost:8080/"
        },
        "id": "877a94df",
        "outputId": "de8691fd-19ea-4f3d-ff9a-9ded9ad3fa91"
      },
      "source": [
        "!pip install streamlit pandas matplotlib seaborn"
      ],
      "execution_count": null,
      "outputs": [
        {
          "output_type": "stream",
          "name": "stdout",
          "text": [
            "Requirement already satisfied: streamlit in /usr/local/lib/python3.12/dist-packages (1.50.0)\n",
            "Requirement already satisfied: pandas in /usr/local/lib/python3.12/dist-packages (2.2.2)\n",
            "Requirement already satisfied: matplotlib in /usr/local/lib/python3.12/dist-packages (3.10.0)\n",
            "Requirement already satisfied: seaborn in /usr/local/lib/python3.12/dist-packages (0.13.2)\n",
            "Requirement already satisfied: altair!=5.4.0,!=5.4.1,<6,>=4.0 in /usr/local/lib/python3.12/dist-packages (from streamlit) (5.5.0)\n",
            "Requirement already satisfied: blinker<2,>=1.5.0 in /usr/local/lib/python3.12/dist-packages (from streamlit) (1.9.0)\n",
            "Requirement already satisfied: cachetools<7,>=4.0 in /usr/local/lib/python3.12/dist-packages (from streamlit) (5.5.2)\n",
            "Requirement already satisfied: click<9,>=7.0 in /usr/local/lib/python3.12/dist-packages (from streamlit) (8.2.1)\n",
            "Requirement already satisfied: numpy<3,>=1.23 in /usr/local/lib/python3.12/dist-packages (from streamlit) (2.0.2)\n",
            "Requirement already satisfied: packaging<26,>=20 in /usr/local/lib/python3.12/dist-packages (from streamlit) (25.0)\n",
            "Requirement already satisfied: pillow<12,>=7.1.0 in /usr/local/lib/python3.12/dist-packages (from streamlit) (11.3.0)\n",
            "Requirement already satisfied: protobuf<7,>=3.20 in /usr/local/lib/python3.12/dist-packages (from streamlit) (5.29.5)\n",
            "Requirement already satisfied: pyarrow>=7.0 in /usr/local/lib/python3.12/dist-packages (from streamlit) (18.1.0)\n",
            "Requirement already satisfied: requests<3,>=2.27 in /usr/local/lib/python3.12/dist-packages (from streamlit) (2.32.4)\n",
            "Requirement already satisfied: tenacity<10,>=8.1.0 in /usr/local/lib/python3.12/dist-packages (from streamlit) (8.5.0)\n",
            "Requirement already satisfied: toml<2,>=0.10.1 in /usr/local/lib/python3.12/dist-packages (from streamlit) (0.10.2)\n",
            "Requirement already satisfied: typing-extensions<5,>=4.4.0 in /usr/local/lib/python3.12/dist-packages (from streamlit) (4.15.0)\n",
            "Requirement already satisfied: watchdog<7,>=2.1.5 in /usr/local/lib/python3.12/dist-packages (from streamlit) (6.0.0)\n",
            "Requirement already satisfied: gitpython!=3.1.19,<4,>=3.0.7 in /usr/local/lib/python3.12/dist-packages (from streamlit) (3.1.45)\n",
            "Requirement already satisfied: pydeck<1,>=0.8.0b4 in /usr/local/lib/python3.12/dist-packages (from streamlit) (0.9.1)\n",
            "Requirement already satisfied: tornado!=6.5.0,<7,>=6.0.3 in /usr/local/lib/python3.12/dist-packages (from streamlit) (6.4.2)\n",
            "Requirement already satisfied: python-dateutil>=2.8.2 in /usr/local/lib/python3.12/dist-packages (from pandas) (2.9.0.post0)\n",
            "Requirement already satisfied: pytz>=2020.1 in /usr/local/lib/python3.12/dist-packages (from pandas) (2025.2)\n",
            "Requirement already satisfied: tzdata>=2022.7 in /usr/local/lib/python3.12/dist-packages (from pandas) (2025.2)\n",
            "Requirement already satisfied: contourpy>=1.0.1 in /usr/local/lib/python3.12/dist-packages (from matplotlib) (1.3.3)\n",
            "Requirement already satisfied: cycler>=0.10 in /usr/local/lib/python3.12/dist-packages (from matplotlib) (0.12.1)\n",
            "Requirement already satisfied: fonttools>=4.22.0 in /usr/local/lib/python3.12/dist-packages (from matplotlib) (4.60.0)\n",
            "Requirement already satisfied: kiwisolver>=1.3.1 in /usr/local/lib/python3.12/dist-packages (from matplotlib) (1.4.9)\n",
            "Requirement already satisfied: pyparsing>=2.3.1 in /usr/local/lib/python3.12/dist-packages (from matplotlib) (3.2.4)\n",
            "Requirement already satisfied: jinja2 in /usr/local/lib/python3.12/dist-packages (from altair!=5.4.0,!=5.4.1,<6,>=4.0->streamlit) (3.1.6)\n",
            "Requirement already satisfied: jsonschema>=3.0 in /usr/local/lib/python3.12/dist-packages (from altair!=5.4.0,!=5.4.1,<6,>=4.0->streamlit) (4.25.1)\n",
            "Requirement already satisfied: narwhals>=1.14.2 in /usr/local/lib/python3.12/dist-packages (from altair!=5.4.0,!=5.4.1,<6,>=4.0->streamlit) (2.5.0)\n",
            "Requirement already satisfied: gitdb<5,>=4.0.1 in /usr/local/lib/python3.12/dist-packages (from gitpython!=3.1.19,<4,>=3.0.7->streamlit) (4.0.12)\n",
            "Requirement already satisfied: six>=1.5 in /usr/local/lib/python3.12/dist-packages (from python-dateutil>=2.8.2->pandas) (1.17.0)\n",
            "Requirement already satisfied: charset_normalizer<4,>=2 in /usr/local/lib/python3.12/dist-packages (from requests<3,>=2.27->streamlit) (3.4.3)\n",
            "Requirement already satisfied: idna<4,>=2.5 in /usr/local/lib/python3.12/dist-packages (from requests<3,>=2.27->streamlit) (3.10)\n",
            "Requirement already satisfied: urllib3<3,>=1.21.1 in /usr/local/lib/python3.12/dist-packages (from requests<3,>=2.27->streamlit) (2.5.0)\n",
            "Requirement already satisfied: certifi>=2017.4.17 in /usr/local/lib/python3.12/dist-packages (from requests<3,>=2.27->streamlit) (2025.8.3)\n",
            "Requirement already satisfied: smmap<6,>=3.0.1 in /usr/local/lib/python3.12/dist-packages (from gitdb<5,>=4.0.1->gitpython!=3.1.19,<4,>=3.0.7->streamlit) (5.0.2)\n",
            "Requirement already satisfied: MarkupSafe>=2.0 in /usr/local/lib/python3.12/dist-packages (from jinja2->altair!=5.4.0,!=5.4.1,<6,>=4.0->streamlit) (3.0.2)\n",
            "Requirement already satisfied: attrs>=22.2.0 in /usr/local/lib/python3.12/dist-packages (from jsonschema>=3.0->altair!=5.4.0,!=5.4.1,<6,>=4.0->streamlit) (25.3.0)\n",
            "Requirement already satisfied: jsonschema-specifications>=2023.03.6 in /usr/local/lib/python3.12/dist-packages (from jsonschema>=3.0->altair!=5.4.0,!=5.4.1,<6,>=4.0->streamlit) (2025.9.1)\n",
            "Requirement already satisfied: referencing>=0.28.4 in /usr/local/lib/python3.12/dist-packages (from jsonschema>=3.0->altair!=5.4.0,!=5.4.1,<6,>=4.0->streamlit) (0.36.2)\n",
            "Requirement already satisfied: rpds-py>=0.7.1 in /usr/local/lib/python3.12/dist-packages (from jsonschema>=3.0->altair!=5.4.0,!=5.4.1,<6,>=4.0->streamlit) (0.27.1)\n"
          ]
        }
      ]
    },
    {
      "cell_type": "markdown",
      "metadata": {
        "id": "a4c3bb01"
      },
      "source": [
        "## 2. Import Libraries and Load Data\n",
        "\n",
        "In this section, we bring in the installed tools (libraries) so we can use them in our code. We also load the CO₂ emissions data from a public source on the internet. The data loading part is made efficient so it doesn't slow down the application."
      ]
    },
    {
      "cell_type": "code",
      "metadata": {
        "colab": {
          "base_uri": "https://localhost:8080/"
        },
        "id": "95273508",
        "outputId": "c3470040-2c6c-46ea-cefa-6d79f3d30df6"
      },
      "source": [
        "import streamlit as st\n",
        "import pandas as pd\n",
        "import matplotlib.pyplot as plt\n",
        "import seaborn as sns\n",
        "\n",
        "st.set_page_config(page_title=\"Global C0₂ Emissions Dashboard\", layout=\"wide\")\n",
        "\n",
        "@st.cache_data #Load cached to prevent download each time\n",
        "def load_data():\n",
        "  url = \"https://github.com/owid/co2-data/raw/master/owid-co2-data.csv\"\n",
        "  df = pd.read_csv(url)\n",
        "  return df\n",
        "\n",
        "df = load_data()"
      ],
      "execution_count": null,
      "outputs": [
        {
          "output_type": "stream",
          "name": "stderr",
          "text": [
            "2025-10-01 23:48:08.767 Thread 'MainThread': missing ScriptRunContext! This warning can be ignored when running in bare mode.\n",
            "2025-10-01 23:48:08.769 No runtime found, using MemoryCacheStorageManager\n"
          ]
        }
      ]
    },
    {
      "cell_type": "markdown",
      "metadata": {
        "id": "bb4ea4f3"
      },
      "source": [
        "## 3. Create Sidebar Controls\n",
        "\n",
        "This cell sets up the interactive elements on the side of our web application. These controls allow users to choose a country or region and select a range of years to view the data for."
      ]
    },
    {
      "cell_type": "markdown",
      "metadata": {
        "id": "19c29e2e"
      },
      "source": [
        "## 4. Filter Data\n",
        "\n",
        "This cell filters the main dataset based on the country and year range selected in the sidebar. This ensures that the charts and tables we create only show the data the user is interested in."
      ]
    },
    {
      "cell_type": "code",
      "metadata": {
        "id": "e0fa388c"
      },
      "source": [
        "# Filter the DataFrame based on selected country and year range.\n",
        "df_filtered = df[(df[\"country\"] == country) & (df[\"year\"].between(year_range[0], year_range[1]))]"
      ],
      "execution_count": null,
      "outputs": []
    },
    {
      "cell_type": "markdown",
      "metadata": {
        "id": "6d0f3028"
      },
      "source": [
        "## 5. Display CO₂ Emissions Over Time\n",
        "\n",
        "This cell displays the main title of the dashboard and generates a line chart showing the CO₂ emissions over time for the selected country or region. This chart helps visualize the trend of emissions historically."
      ]
    },
    {
      "cell_type": "code",
      "metadata": {
        "colab": {
          "base_uri": "https://localhost:8080/"
        },
        "id": "a9ff626a",
        "outputId": "4d4ec91e-7329-44d7-a406-b2c49a15b119"
      },
      "source": [
        "# Display the main title and the first chart.\n",
        "st.title(f\"C0₂ Emissions Dashboard for {country}\")\n",
        "st.subheader(\"C0₂ over time\")\n",
        "\n",
        "# Create and display a line plot for CO2 emissions over time.\n",
        "fig, ax = plt.subplots(figsize=(8, 4))\n",
        "sns.lineplot(data=df_filtered, x=\"year\", y=\"co2\", ax=ax, marker=\"o\")\n",
        "ax.set_xlabel(\"Year\")\n",
        "st.pyplot(fig)"
      ],
      "execution_count": null,
      "outputs": [
        {
          "output_type": "stream",
          "name": "stderr",
          "text": [
            "2025-10-01 23:47:48.962 Thread 'MainThread': missing ScriptRunContext! This warning can be ignored when running in bare mode.\n",
            "2025-10-01 23:47:48.965 Thread 'MainThread': missing ScriptRunContext! This warning can be ignored when running in bare mode.\n",
            "2025-10-01 23:47:48.966 Thread 'MainThread': missing ScriptRunContext! This warning can be ignored when running in bare mode.\n",
            "2025-10-01 23:47:48.968 Thread 'MainThread': missing ScriptRunContext! This warning can be ignored when running in bare mode.\n",
            "2025-10-01 23:47:48.970 Thread 'MainThread': missing ScriptRunContext! This warning can be ignored when running in bare mode.\n",
            "2025-10-01 23:47:48.971 Thread 'MainThread': missing ScriptRunContext! This warning can be ignored when running in bare mode.\n",
            "2025-10-01 23:47:49.020 Thread 'MainThread': missing ScriptRunContext! This warning can be ignored when running in bare mode.\n",
            "2025-10-01 23:47:49.168 Thread 'MainThread': missing ScriptRunContext! This warning can be ignored when running in bare mode.\n",
            "2025-10-01 23:47:49.168 Thread 'MainThread': missing ScriptRunContext! This warning can be ignored when running in bare mode.\n",
            "2025-10-01 23:47:49.169 Thread 'MainThread': missing ScriptRunContext! This warning can be ignored when running in bare mode.\n"
          ]
        },
        {
          "output_type": "execute_result",
          "data": {
            "text/plain": [
              "DeltaGenerator()"
            ]
          },
          "metadata": {},
          "execution_count": 36
        }
      ]
    },
    {
      "cell_type": "markdown",
      "metadata": {
        "id": "b92a15db"
      },
      "source": [
        "## 6. Display Breakdown by Fuel Type\n",
        "\n",
        "This cell conditionally displays a chart showing the breakdown of CO₂ emissions by different fuel types (coal, oil, gas, and other). This is only shown when a specific country (not \"World\") is selected, providing insight into the sources of emissions for that country."
      ]
    },
    {
      "cell_type": "code",
      "metadata": {
        "id": "b40feb7a"
      },
      "source": [
        "# If a specific country is selected (not \"World\"), show breakdown by fuel types.\n",
        "if country != \"World\":\n",
        "  st.subheader(\"Breakdown by fuel type\")\n",
        "  fig2, ax2 = plt.subplots(figsize=(8,4))\n",
        "  fuel_cols = [\"coal_co2\", \"oil_co2\", \"gas_co2\", \"other_co2\"]\n",
        "  for col in fuel_cols:\n",
        "    if col in df_filtered.columns:\n",
        "      sns.lineplot(data = df_filtered, x=\"year\", y=col, ax=ax2, label=col)\n",
        "  ax2.set_xlabel(\"Year\")\n",
        "  ax2.legend()\n",
        "  st.pyplot(fig2)"
      ],
      "execution_count": null,
      "outputs": []
    },
    {
      "cell_type": "markdown",
      "metadata": {
        "id": "5397fec8"
      },
      "source": [
        "## 7. Display Top Emitters\n",
        "\n",
        "This cell conditionally displays a table showing the top 10 countries with the highest CO₂ emissions in the latest available year. This is shown when \"World\" is selected, providing a quick overview of the major global emitters."
      ]
    },
    {
      "cell_type": "code",
      "metadata": {
        "colab": {
          "base_uri": "https://localhost:8080/"
        },
        "id": "abcb53ae",
        "outputId": "606e77ae-7562-4195-f863-6d4f6229e52d"
      },
      "source": [
        "# If country is \"World\", show top 10 emitters for the latest year\n",
        "if country == \"World\":\n",
        "  st.subheader(\"Top emitters last year\")\n",
        "  latest_year_data = df[df[\"year\"] == df[\"year\"].max()].copy()\n",
        "  # Ensure 'co2' column exists and is not all NaN for meaningful sorting\n",
        "  if \"co2\" in latest_year_data.columns and not latest_year_data[\"co2\"].isnull().all():\n",
        "      top10 = latest_year_data.nlargest(10, \"co2\")[[\"country\",\"co2\"]]\n",
        "      st.write(top10)\n",
        "  else:\n",
        "      st.write(\"CO2 data not available for the latest year.\")"
      ],
      "execution_count": null,
      "outputs": [
        {
          "output_type": "stream",
          "name": "stderr",
          "text": [
            "2025-10-01 23:47:53.139 Thread 'MainThread': missing ScriptRunContext! This warning can be ignored when running in bare mode.\n",
            "2025-10-01 23:47:53.141 Thread 'MainThread': missing ScriptRunContext! This warning can be ignored when running in bare mode.\n",
            "2025-10-01 23:47:53.143 Thread 'MainThread': missing ScriptRunContext! This warning can be ignored when running in bare mode.\n",
            "2025-10-01 23:47:53.154 Thread 'MainThread': missing ScriptRunContext! This warning can be ignored when running in bare mode.\n",
            "2025-10-01 23:47:53.155 Thread 'MainThread': missing ScriptRunContext! This warning can be ignored when running in bare mode.\n",
            "2025-10-01 23:47:53.156 Thread 'MainThread': missing ScriptRunContext! This warning can be ignored when running in bare mode.\n"
          ]
        }
      ]
    },
    {
      "cell_type": "code",
      "metadata": {
        "colab": {
          "base_uri": "https://localhost:8080/"
        },
        "id": "b4f2013c",
        "outputId": "f2d234b6-0570-4e90-b956-e06856eb065d"
      },
      "source": [
        "st.sidebar.title(\"Controls\")\n",
        "\n",
        "# Select a specific country or the entire world.\n",
        "all_countries = sorted(df[\"country\"].unique())\n",
        "country = st.sidebar.selectbox(\"Choose country or region\", all_countries, index=all_countries.index(\"World\"))\n",
        "\n",
        "min_year = int(df[\"year\"].min())\n",
        "max_year = int(df[\"year\"].max())\n",
        "year_range = st.sidebar.slider(\"Select year range\", min_value=min_year, max_value=max_year, value=(min_year, max_year))"
      ],
      "execution_count": null,
      "outputs": [
        {
          "output_type": "stream",
          "name": "stderr",
          "text": [
            "2025-10-01 23:47:55.824 Thread 'MainThread': missing ScriptRunContext! This warning can be ignored when running in bare mode.\n",
            "2025-10-01 23:47:55.829 Thread 'MainThread': missing ScriptRunContext! This warning can be ignored when running in bare mode.\n",
            "2025-10-01 23:47:55.830 Thread 'MainThread': missing ScriptRunContext! This warning can be ignored when running in bare mode.\n",
            "2025-10-01 23:47:55.841 Thread 'MainThread': missing ScriptRunContext! This warning can be ignored when running in bare mode.\n",
            "2025-10-01 23:47:55.843 Thread 'MainThread': missing ScriptRunContext! This warning can be ignored when running in bare mode.\n",
            "2025-10-01 23:47:55.845 Thread 'MainThread': missing ScriptRunContext! This warning can be ignored when running in bare mode.\n",
            "2025-10-01 23:47:55.847 Thread 'MainThread': missing ScriptRunContext! This warning can be ignored when running in bare mode.\n",
            "2025-10-01 23:47:55.849 Thread 'MainThread': missing ScriptRunContext! This warning can be ignored when running in bare mode.\n",
            "2025-10-01 23:47:55.852 Thread 'MainThread': missing ScriptRunContext! This warning can be ignored when running in bare mode.\n",
            "2025-10-01 23:47:55.853 Thread 'MainThread': missing ScriptRunContext! This warning can be ignored when running in bare mode.\n",
            "2025-10-01 23:47:55.856 Thread 'MainThread': missing ScriptRunContext! This warning can be ignored when running in bare mode.\n",
            "2025-10-01 23:47:55.858 Thread 'MainThread': missing ScriptRunContext! This warning can be ignored when running in bare mode.\n",
            "2025-10-01 23:47:55.860 Thread 'MainThread': missing ScriptRunContext! This warning can be ignored when running in bare mode.\n",
            "2025-10-01 23:47:55.862 Thread 'MainThread': missing ScriptRunContext! This warning can be ignored when running in bare mode.\n",
            "2025-10-01 23:47:55.864 Thread 'MainThread': missing ScriptRunContext! This warning can be ignored when running in bare mode.\n",
            "2025-10-01 23:47:55.866 Thread 'MainThread': missing ScriptRunContext! This warning can be ignored when running in bare mode.\n"
          ]
        }
      ]
    },
    {
      "cell_type": "code",
      "metadata": {
        "id": "7d2e271c"
      },
      "source": [
        "# Filter\n",
        "df_filtered = df[(df[\"country\"] == country) & (df[\"year\"].between(year_range[0], year_range[1]))]"
      ],
      "execution_count": null,
      "outputs": []
    },
    {
      "cell_type": "code",
      "metadata": {
        "colab": {
          "base_uri": "https://localhost:8080/"
        },
        "id": "d6c15b31",
        "outputId": "a2b12c56-b0db-461c-fcde-1f915adf43ee"
      },
      "source": [
        "# Main: Title & Chart\n",
        "st.title(f\"C0₂ Emissions Dashboard for {country}\")\n",
        "\n",
        "st.subheader(\"C0₂ over time\")\n",
        "\n",
        "# Create figure and axes for the line plot\n",
        "fig, ax = plt.subplots(figsize=(8, 4))\n",
        "\n",
        "# Generate the line plot\n",
        "sns.lineplot(data=df_filtered, x=\"year\", y=\"co2\", ax=ax, marker=\"o\")\n",
        "\n",
        "# Set x-axis label\n",
        "ax.set_xlabel(\"Year\")\n",
        "\n",
        "# Display the plot\n",
        "st.pyplot(fig)"
      ],
      "execution_count": null,
      "outputs": [
        {
          "output_type": "stream",
          "name": "stderr",
          "text": [
            "2025-10-01 23:47:59.801 Thread 'MainThread': missing ScriptRunContext! This warning can be ignored when running in bare mode.\n",
            "2025-10-01 23:47:59.804 Thread 'MainThread': missing ScriptRunContext! This warning can be ignored when running in bare mode.\n",
            "2025-10-01 23:47:59.807 Thread 'MainThread': missing ScriptRunContext! This warning can be ignored when running in bare mode.\n",
            "2025-10-01 23:47:59.811 Thread 'MainThread': missing ScriptRunContext! This warning can be ignored when running in bare mode.\n",
            "2025-10-01 23:47:59.814 Thread 'MainThread': missing ScriptRunContext! This warning can be ignored when running in bare mode.\n",
            "2025-10-01 23:47:59.817 Thread 'MainThread': missing ScriptRunContext! This warning can be ignored when running in bare mode.\n",
            "2025-10-01 23:47:59.945 Thread 'MainThread': missing ScriptRunContext! This warning can be ignored when running in bare mode.\n",
            "2025-10-01 23:48:00.239 Thread 'MainThread': missing ScriptRunContext! This warning can be ignored when running in bare mode.\n",
            "2025-10-01 23:48:00.240 Thread 'MainThread': missing ScriptRunContext! This warning can be ignored when running in bare mode.\n",
            "2025-10-01 23:48:00.241 Thread 'MainThread': missing ScriptRunContext! This warning can be ignored when running in bare mode.\n"
          ]
        },
        {
          "output_type": "execute_result",
          "data": {
            "text/plain": [
              "DeltaGenerator()"
            ]
          },
          "metadata": {},
          "execution_count": 40
        }
      ]
    },
    {
      "cell_type": "code",
      "metadata": {
        "id": "10b69ab8"
      },
      "source": [
        "if country != \"World\":\n",
        "  st.subheader(\"Breakdown by fuel type\")\n",
        "  fig2, ax2 = plt.subplots(figsize=(8,4))\n",
        "  fuel_cols = [\"coal_co2\", \"oil_co2\", \"gas_co2\", \"other_co2\"]\n",
        "  for col in fuel_cols:\n",
        "    if col in df_filtered.columns:\n",
        "      sns.lineplot(data = df_filtered, x=\"year\", y=col, ax=ax2, label=col)\n",
        "  ax2.set_xlabel(\"Year\")\n",
        "  ax2.legend()\n",
        "  st.pyplot(fig2)"
      ],
      "execution_count": null,
      "outputs": []
    },
    {
      "cell_type": "code",
      "metadata": {
        "colab": {
          "base_uri": "https://localhost:8080/"
        },
        "id": "bcd9bee9",
        "outputId": "88ec0964-e5a2-4ae1-d973-ba09d39a6907"
      },
      "source": [
        "# If country is \"World\", show top 10 emitters for the latest year\n",
        "if country == \"World\":\n",
        "  st.subheader(\"Top emitters last year\")\n",
        "  latest_year_data = df[df[\"year\"] == df[\"year\"].max()].copy()\n",
        "  # Ensure 'co2' column exists and is not all NaN for meaningful sorting\n",
        "  if \"co2\" in latest_year_data.columns and not latest_year_data[\"co2\"].isnull().all():\n",
        "      top10 = latest_year_data.nlargest(10, \"co2\")[[\"country\",\"co2\"]]\n",
        "      st.write(top10)\n",
        "  else:\n",
        "      st.write(\"CO2 data not available for the latest year.\")"
      ],
      "execution_count": null,
      "outputs": [
        {
          "output_type": "stream",
          "name": "stderr",
          "text": [
            "2025-10-01 23:47:07.902 Thread 'MainThread': missing ScriptRunContext! This warning can be ignored when running in bare mode.\n",
            "2025-10-01 23:47:07.904 Thread 'MainThread': missing ScriptRunContext! This warning can be ignored when running in bare mode.\n",
            "2025-10-01 23:47:07.906 Thread 'MainThread': missing ScriptRunContext! This warning can be ignored when running in bare mode.\n",
            "2025-10-01 23:47:07.916 Thread 'MainThread': missing ScriptRunContext! This warning can be ignored when running in bare mode.\n",
            "2025-10-01 23:47:07.917 Thread 'MainThread': missing ScriptRunContext! This warning can be ignored when running in bare mode.\n",
            "2025-10-01 23:47:07.918 Thread 'MainThread': missing ScriptRunContext! This warning can be ignored when running in bare mode.\n"
          ]
        }
      ]
    }
  ]
}